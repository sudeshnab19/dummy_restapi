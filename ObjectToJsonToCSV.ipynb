{
 "cells": [
  {
   "cell_type": "markdown",
   "id": "83300059",
   "metadata": {},
   "source": [
    "# python | object -> json | network \n",
    "# Serialization => Towards network"
   ]
  },
  {
   "cell_type": "code",
   "execution_count": 9,
   "id": "2cd87b68",
   "metadata": {},
   "outputs": [],
   "source": [
    "import json"
   ]
  },
  {
   "cell_type": "code",
   "execution_count": 10,
   "id": "147fd092",
   "metadata": {},
   "outputs": [
    {
     "name": "stdout",
     "output_type": "stream",
     "text": [
      "[{\"EST\": \"1/1/2016\", \"Temperature\": 38, \"DewPoint\": 23, \"Humidity\": 52}, {\"Temperature\": 30, \"DewPoint\": 20}, {\"EST\": \"1/3/2016\", \"Humidity\": 59}, {\"EST\": \"1/5/2016\", \"Temperature\": 36, \"DewPoint\": 21}]\n",
      "JSON data has been written to data1.json\n"
     ]
    }
   ],
   "source": [
    "data1 = [\n",
    " {\"EST\": \"1/1/2016\",\n",
    "  \"Temperature\": 38,\n",
    "  \"DewPoint\": 23,\n",
    "  \"Humidity\": 52\n",
    " },\n",
    " {\n",
    "  \"Temperature\": 30,\n",
    "  \"DewPoint\": 20,\n",
    " },\n",
    " {\"EST\": \"1/3/2016\",\n",
    "  \"Humidity\": 59\n",
    " },\n",
    " {\"EST\": \"1/5/2016\",\n",
    "  \"Temperature\": 36,\n",
    "  \"DewPoint\": 21\n",
    " }\n",
    "]\n",
    "print(json.dumps(data)) # converts the Python object data into a JSON string\n",
    "\n",
    "# Write the JSON data to a file\n",
    "with open('data1.json', 'w') as json_file:\n",
    "    json.dump(data1, json_file,indent=2)\n",
    "\n",
    "print('JSON data has been written to data1.json')"
   ]
  },
  {
   "cell_type": "markdown",
   "id": "a5e31b5a",
   "metadata": {},
   "source": [
    "# Convert the file in csv"
   ]
  },
  {
   "cell_type": "code",
   "execution_count": 11,
   "id": "8cc5a480",
   "metadata": {},
   "outputs": [],
   "source": [
    "import pandas as pd"
   ]
  },
  {
   "cell_type": "code",
   "execution_count": 12,
   "id": "0e925053",
   "metadata": {},
   "outputs": [
    {
     "data": {
      "text/html": [
       "<div>\n",
       "<style scoped>\n",
       "    .dataframe tbody tr th:only-of-type {\n",
       "        vertical-align: middle;\n",
       "    }\n",
       "\n",
       "    .dataframe tbody tr th {\n",
       "        vertical-align: top;\n",
       "    }\n",
       "\n",
       "    .dataframe thead th {\n",
       "        text-align: right;\n",
       "    }\n",
       "</style>\n",
       "<table border=\"1\" class=\"dataframe\">\n",
       "  <thead>\n",
       "    <tr style=\"text-align: right;\">\n",
       "      <th></th>\n",
       "      <th>EST</th>\n",
       "      <th>Temperature</th>\n",
       "      <th>DewPoint</th>\n",
       "      <th>Humidity</th>\n",
       "    </tr>\n",
       "  </thead>\n",
       "  <tbody>\n",
       "    <tr>\n",
       "      <th>0</th>\n",
       "      <td>1/1/2016</td>\n",
       "      <td>38.0</td>\n",
       "      <td>23.0</td>\n",
       "      <td>52.0</td>\n",
       "    </tr>\n",
       "    <tr>\n",
       "      <th>1</th>\n",
       "      <td>NaN</td>\n",
       "      <td>30.0</td>\n",
       "      <td>20.0</td>\n",
       "      <td>NaN</td>\n",
       "    </tr>\n",
       "    <tr>\n",
       "      <th>2</th>\n",
       "      <td>1/3/2016</td>\n",
       "      <td>NaN</td>\n",
       "      <td>NaN</td>\n",
       "      <td>59.0</td>\n",
       "    </tr>\n",
       "    <tr>\n",
       "      <th>3</th>\n",
       "      <td>1/5/2016</td>\n",
       "      <td>36.0</td>\n",
       "      <td>21.0</td>\n",
       "      <td>NaN</td>\n",
       "    </tr>\n",
       "  </tbody>\n",
       "</table>\n",
       "</div>"
      ],
      "text/plain": [
       "        EST  Temperature  DewPoint  Humidity\n",
       "0  1/1/2016         38.0      23.0      52.0\n",
       "1       NaN         30.0      20.0       NaN\n",
       "2  1/3/2016          NaN       NaN      59.0\n",
       "3  1/5/2016         36.0      21.0       NaN"
      ]
     },
     "execution_count": 12,
     "metadata": {},
     "output_type": "execute_result"
    }
   ],
   "source": [
    "json_file='data1.json'\n",
    "data_csv=pd.read_json(json_file)\n",
    "data_csv"
   ]
  },
  {
   "cell_type": "markdown",
   "id": "0c6c177d",
   "metadata": {},
   "source": [
    "# Now create a file with 4 dictionary elements within a json file where in 1st row 4 key- values, 2nd 2 key-value, 3rd 1 key-value and 4th 3 key-value combinations are there\n",
    "\n",
    "Create super set and append the headers (keys ) there and then use logic and build the table and where data is not there null will be there"
   ]
  },
  {
   "cell_type": "code",
   "execution_count": null,
   "id": "c9b7aa78",
   "metadata": {},
   "outputs": [],
   "source": []
  }
 ],
 "metadata": {
  "kernelspec": {
   "display_name": "Python 3 (ipykernel)",
   "language": "python",
   "name": "python3"
  },
  "language_info": {
   "codemirror_mode": {
    "name": "ipython",
    "version": 3
   },
   "file_extension": ".py",
   "mimetype": "text/x-python",
   "name": "python",
   "nbconvert_exporter": "python",
   "pygments_lexer": "ipython3",
   "version": "3.11.7"
  }
 },
 "nbformat": 4,
 "nbformat_minor": 5
}
